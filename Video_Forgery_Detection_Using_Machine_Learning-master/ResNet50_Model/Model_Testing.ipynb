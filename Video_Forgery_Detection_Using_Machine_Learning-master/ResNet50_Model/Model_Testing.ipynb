{
 "cells": [
  {
   "cell_type": "code",
   "execution_count": 5,
   "metadata": {},
   "outputs": [],
   "source": [
    "import numpy as np\n",
    "import matplotlib.pyplot as plt\n",
    "from keras.models import load_model"
   ]
  },
  {
   "cell_type": "code",
   "execution_count": 6,
   "metadata": {},
   "outputs": [],
   "source": [
    "Xtest = np.load(r\"C:\\Users\\Fahmi Bakhir\\Desktop\\Video_Forgery_Detection_Using_Machine_Learning-master\\Video_Forgery_Detection_Using_Machine_Learning-master\\video_tampering_dataset\\Xtrain.npy\")\n",
    "Ytest = np.load(r\"C:\\Users\\Fahmi Bakhir\\Desktop\\Video_Forgery_Detection_Using_Machine_Learning-master\\Video_Forgery_Detection_Using_Machine_Learning-master\\video_tampering_dataset\\Ytrain.npy\")"
   ]
  },
  {
   "cell_type": "code",
   "execution_count": 7,
   "metadata": {},
   "outputs": [
    {
     "name": "stdout",
     "output_type": "stream",
     "text": [
      "(6990, 240, 320, 3)\n",
      "(6990,)\n"
     ]
    }
   ],
   "source": [
    "print(Xtest.shape)\n",
    "print(Ytest.shape)"
   ]
  },
  {
   "cell_type": "code",
   "execution_count": 8,
   "metadata": {},
   "outputs": [],
   "source": [
    "model = load_model(r\"C:\\Users\\Fahmi Bakhir\\Desktop\\Video_Forgery_Detection_Using_Machine_Learning-master\\Video_Forgery_Detection_Using_Machine_Learning-master/ResNet50_Model/forgery_model.hdf5\")"
   ]
  },
  {
   "cell_type": "code",
   "execution_count": 9,
   "metadata": {},
   "outputs": [
    {
     "name": "stdout",
     "output_type": "stream",
     "text": [
      "219/219 [==============================] - 1704s 8s/step\n"
     ]
    }
   ],
   "source": [
    "outputs = model.predict(Xtest)"
   ]
  },
  {
   "cell_type": "code",
   "execution_count": 18,
   "metadata": {},
   "outputs": [
    {
     "name": "stdout",
     "output_type": "stream",
     "text": [
      "(6990,)\n"
     ]
    }
   ],
   "source": [
    "outputs = outputs.reshape((-1))\n",
    "print(outputs.shape)"
   ]
  },
  {
   "cell_type": "code",
   "execution_count": 19,
   "metadata": {},
   "outputs": [],
   "source": [
    "for i in range(outputs.shape[0]):\n",
    "    if outputs[i] > 0.5:\n",
    "        outputs[i] = 1\n",
    "    else:\n",
    "        outputs[i] = 0"
   ]
  },
  {
   "cell_type": "code",
   "execution_count": 20,
   "metadata": {},
   "outputs": [
    {
     "name": "stdout",
     "output_type": "stream",
     "text": [
      "[0. 0. 0. ... 0. 0. 1.]\n"
     ]
    }
   ],
   "source": [
    "print(outputs)"
   ]
  },
  {
   "cell_type": "code",
   "execution_count": 13,
   "metadata": {},
   "outputs": [
    {
     "name": "stdout",
     "output_type": "stream",
     "text": [
      "Test Accuracy =  0.7988555078683834\n"
     ]
    }
   ],
   "source": [
    "positiveCount = 0\n",
    "for i in range(Xtest.shape[0]):\n",
    "    if outputs[i] == Ytest[i]:\n",
    "        positiveCount +=1\n",
    "\n",
    "print(\"Test Accuracy = \",positiveCount/Ytest.shape[0])"
   ]
  },
  {
   "cell_type": "code",
   "execution_count": 14,
   "metadata": {},
   "outputs": [],
   "source": [
    "from sklearn.metrics import classification_report,confusion_matrix\n",
    "from visualize import plot_confusion_matrix"
   ]
  },
  {
   "cell_type": "code",
   "execution_count": 15,
   "metadata": {},
   "outputs": [
    {
     "name": "stdout",
     "output_type": "stream",
     "text": [
      "              precision    recall  f1-score   support\n",
      "\n",
      "         0.0       0.99      0.79      0.88      6581\n",
      "         1.0       0.21      0.88      0.34       409\n",
      "\n",
      "    accuracy                           0.80      6990\n",
      "   macro avg       0.60      0.84      0.61      6990\n",
      "weighted avg       0.95      0.80      0.85      6990\n",
      "\n"
     ]
    }
   ],
   "source": [
    "print(classification_report(outputs,Ytest))"
   ]
  },
  {
   "cell_type": "code",
   "execution_count": 16,
   "metadata": {},
   "outputs": [
    {
     "name": "stdout",
     "output_type": "stream",
     "text": [
      "[[5224 1357]\n",
      " [  49  360]]\n"
     ]
    }
   ],
   "source": [
    "cnf_matrix = confusion_matrix(outputs,Ytest)\n",
    "print(cnf_matrix)"
   ]
  },
  {
   "cell_type": "code",
   "execution_count": 17,
   "metadata": {},
   "outputs": [
    {
     "name": "stdout",
     "output_type": "stream",
     "text": [
      "Confusion matrix, without normalization\n",
      "[[5224 1357]\n",
      " [  49  360]]\n"
     ]
    },
    {
     "data": {
      "image/png": "[encoded data removed]",
      "text/plain": [
       "<Figure size 640x480 with 2 Axes>"
      ]
     },
     "metadata": {},
     "output_type": "display_data"
    }
   ],
   "source": [
    "plt.style.use('dark_background')\n",
    "plot_confusion_matrix(cnf_matrix,classes = [\"Original\",\"Forged\"],title=\"Confusion Matrix\")"
   ]
  },
  {
   "cell_type": "code",
   "execution_count": null,
   "metadata": {},
   "outputs": [],
   "source": []
  }
 ],
 "metadata": {
  "kernelspec": {
   "display_name": "Python 3 (ipykernel)",
   "language": "python",
   "name": "python3"
  },
  "language_info": {
   "codemirror_mode": {
    "name": "ipython",
    "version": 3
   },
   "file_extension": ".py",
   "mimetype": "text/x-python",
   "name": "python",
   "nbconvert_exporter": "python",
   "pygments_lexer": "ipython3",
   "version": "3.10.9"
  }
 },
 "nbformat": 4,
 "nbformat_minor": 4
}
